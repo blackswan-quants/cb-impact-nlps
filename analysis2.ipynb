{
 "cells": [
  {
   "cell_type": "code",
   "execution_count": 77,
   "metadata": {},
   "outputs": [],
   "source": [
    "import pandas as pd\n",
    "import numpy as np\n",
    "import time\n",
    "from datetime import timedelta, datetime\n",
    "from libs.helpermodules import memory_handling as mh"
   ]
  },
  {
   "cell_type": "code",
   "execution_count": 78,
   "metadata": {},
   "outputs": [
    {
     "name": "stdout",
     "output_type": "stream",
     "text": [
      "Index(['date', 'time', 'open', 'close'], dtype='object')\n",
      "datetime64[ns]\n"
     ]
    }
   ],
   "source": [
    "df = pd.read_csv(\"US SPX 500 (Mini) 1 Minute.csv\")\n",
    "columns_to_keep = ['<Date>', ' <Time>', ' <Open>', ' <Close>']\n",
    "df = df[columns_to_keep]\n",
    "df.columns = ['date', 'time', 'open', 'close']\n",
    "print(df.columns)\n",
    "\n",
    "# combining date and time in one column (format datetime)\n",
    "df['datetime'] = pd.to_datetime(df['date'] + ' ' + df['time'], format='%d/%m/%Y %H:%M:%S')\n",
    "print(df['datetime'].dtype)\n",
    "df = df.drop(columns=['time'])\n",
    "df['date'] = pd.to_datetime(df['date'], format='%d/%m/%Y')\n",
    "df = df[['datetime'] + [col for col in df.columns if col != 'datetime']]\n"
   ]
  },
  {
   "cell_type": "code",
   "execution_count": 79,
   "metadata": {},
   "outputs": [],
   "source": [
    "# downloading the pickle file \n",
    "file = \"fedspeeches_preprocessed.pkl\"\n",
    "helper = mh.PickleHelper.pickle_load(file)\n",
    "speeches= helper.obj"
   ]
  },
  {
   "cell_type": "code",
   "execution_count": 80,
   "metadata": {},
   "outputs": [],
   "source": [
    "def clean_df(df):\n",
    "    \"\"\"\n",
    "    Clean the dataframe by sorting and filtering based on date and weekdays.\n",
    "\n",
    "    Parameters:\n",
    "    df : pandas.DataFrame\n",
    "        A dataframe containing at least 'date' and 'timestamp' columns.\n",
    "\n",
    "    Returns:\n",
    "    pandas.DataFrame\n",
    "        A dataframe sorted by 'date' and 'timestamp', filtered to include only\n",
    "        rows with dates >= '2024-01-01' and weekdays (Monday to Friday).\n",
    "    \"\"\"\n",
    "        \n",
    "    df_ordered = df.sort_values(by=['date', 'timestamp'], ascending = [True, True])\n",
    "    df_final = df_ordered[df_ordered.date >= \"2024-01-01\"]\n",
    "    df_final = df_final[df_final['date'].dt.weekday<5]\n",
    "    return df_final"
   ]
  },
  {
   "cell_type": "code",
   "execution_count": 81,
   "metadata": {},
   "outputs": [],
   "source": [
    "speeches=clean_df(speeches)"
   ]
  },
  {
   "cell_type": "code",
   "execution_count": 82,
   "metadata": {},
   "outputs": [],
   "source": [
    "# FILTERING DF TO CONTAIN ONLY SPEECHES' DATAS \n",
    "vd = set(speeches['date'].dt.date)\n",
    "filtdf = df[df['date'].dt.date.isin(vd)]"
   ]
  },
  {
   "cell_type": "code",
   "execution_count": 83,
   "metadata": {},
   "outputs": [],
   "source": [
    "# ALL SPEECHES START AT 10\n",
    "# FILTERING filtdf TO KEEP DATAS ONLY BETWEEN 09:45 AND 10:15\n",
    "# Define the time range as time objects\n",
    "start_time = pd.to_datetime(\"09:45:00\").time()\n",
    "end_time = pd.to_datetime(\"10:15:00\").time()\n",
    "\n",
    "# Filter rows based on the time component of 'datetime'\n",
    "filtdf = filtdf[(filtdf['datetime'].dt.time >= start_time) & (filtdf['datetime'].dt.time <= end_time)]"
   ]
  },
  {
   "cell_type": "code",
   "execution_count": 84,
   "metadata": {},
   "outputs": [],
   "source": [
    "def calculate_volatility(dataframe):\n",
    "    \"\"\"\n",
    "    Calculate daily volatility for the 'close' column in the dataframe.\n",
    "\n",
    "    Parameters:\n",
    "    df : pandas.DataFrame\n",
    "        A dataframe containing at least 'date' and 'close' columns.\n",
    "\n",
    "    Returns:\n",
    "    pandas.Series\n",
    "        A series with dates as the index and the standard deviation\n",
    "        of 'close' values (volatility) as the values.\n",
    "    \"\"\"\n",
    "\n",
    "    dataframe['pct_change'] = dataframe['close'].pct_change()\n",
    "    volatility_series = dataframe.groupby('date')['pct_change'].std()\n",
    "    volatility_series.name = 'volatility'\n",
    "    volatility_series.index = pd.to_datetime(volatility_series.index, format='%Y-%m-%d')\n",
    "    return volatility_series"
   ]
  },
  {
   "cell_type": "code",
   "execution_count": 85,
   "metadata": {},
   "outputs": [],
   "source": [
    "def get_best_values(volatility, dataframe, number):\n",
    "    \"\"\"\n",
    "    Filter the dataframe for the top dates with the highest volatility.\n",
    "\n",
    "    Parameters:\n",
    "    volatility : pandas.Series\n",
    "        A series with dates as the index and volatility as the values.\n",
    "    dataframe : pandas.DataFrame\n",
    "        The dataframe to filter, containing a 'date' column.\n",
    "    number : int\n",
    "        The number of top volatility dates to select.\n",
    "\n",
    "    Returns:\n",
    "    pandas.DataFrame\n",
    "        A filtered dataframe containing rows with dates matching the top \n",
    "        'number' volatility values.\n",
    "    \"\"\"\n",
    "    \n",
    "    # Sort the volatility in descending order\n",
    "    volatility = volatility.sort_values(ascending=False)\n",
    "\n",
    "    # Get the top `number` dates with the highest volatility\n",
    "    top_dates = volatility.head(number).index.tolist()\n",
    "\n",
    "    # Filter the dataframe for rows where 'date' is in the top_dates\n",
    "    filtered_df = dataframe[dataframe['date'].isin(top_dates)]\n",
    "\n",
    "    return filtered_df\n"
   ]
  },
  {
   "cell_type": "code",
   "execution_count": 86,
   "metadata": {},
   "outputs": [
    {
     "data": {
      "text/plain": [
       "date\n",
       "2024-01-08    0.000349\n",
       "2024-01-16    0.001712\n",
       "2024-01-17    0.001514\n",
       "2024-02-02    0.006777\n",
       "2024-02-07    0.001929\n",
       "                ...   \n",
       "2024-10-10    0.000627\n",
       "2024-10-11    0.000299\n",
       "2024-10-14    0.001050\n",
       "2024-10-18    0.000322\n",
       "2024-10-23    0.000687\n",
       "Name: volatility, Length: 69, dtype: float64"
      ]
     },
     "execution_count": 86,
     "metadata": {},
     "output_type": "execute_result"
    }
   ],
   "source": [
    "volatility = calculate_volatility(filtdf)\n",
    "volatility"
   ]
  },
  {
   "cell_type": "code",
   "execution_count": 87,
   "metadata": {},
   "outputs": [],
   "source": [
    "newdf = get_best_values(volatility, speeches, 10)"
   ]
  },
  {
   "cell_type": "markdown",
   "metadata": {},
   "source": [
    "Top 10:\n",
    "- 2024-02-02, Governor Michelle W. Bowman, volatility: 0.006777226970784951 (2) ***\n",
    "- 2024-03-25, Governor Lisa D. Cook, volatility: 0.002785226147242381 ***\n",
    "- 2024-04-05, Governor Michelle W. Bowman, volatility: 0.002709719758927533\n",
    "- 2024-04-16, Vice Chair Philip N. Jefferson, volatility: 0.004312766394127704 (3) ***\n",
    "- 2024-05-03, Governor Michelle W. Bowman, volatility: 0.003364359644292597 ***\n",
    "- 2024-07-09, Governor Michelle W. Bowman/Vice Chair for Supervision Michael S. Barr, volatility: 0.0031166837073481864 ***\n",
    "- 2024-07-24, Governor Michelle W. Bowman, volatility: 0.0036281060467863763 (5) ***\n",
    "- 2024-08-19, Governor Christopher J. Waller, volatility: 0.0029159356120044794\n",
    "- 2024-09-06, Governor Christopher J. Waller, volatility: 0.0036960021216403565 (4) ***\n",
    "- 2024-09-20, Governor Michelle W. Bowman, volatility: 0.007836799683358276 (1) ***\n",
    "\n",
    "\n",
    "Legend:\n",
    "(number) indicates the position in the ranking\n",
    "*** means the speech was flagged by the study with ETF 'SPY' datas too.\n",
    "\n",
    "Conclusions:\n",
    "- Most volatile speaker: Governor Michelle Bowman\n",
    "- Speeches with more volatility: 2024-09-20 (Statement by Governor Michelle W. Bowman) and 2024-02-02 (The future of Banking)\n",
    "\n"
   ]
  }
 ],
 "metadata": {
  "kernelspec": {
   "display_name": "Python 3",
   "language": "python",
   "name": "python3"
  },
  "language_info": {
   "codemirror_mode": {
    "name": "ipython",
    "version": 3
   },
   "file_extension": ".py",
   "mimetype": "text/x-python",
   "name": "python",
   "nbconvert_exporter": "python",
   "pygments_lexer": "ipython3",
   "version": "3.12.7"
  }
 },
 "nbformat": 4,
 "nbformat_minor": 2
}
