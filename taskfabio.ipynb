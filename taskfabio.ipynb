{
 "cells": [
  {
   "cell_type": "markdown",
   "metadata": {},
   "source": [
    "- filtraggio dataframe con funzione recuparabile su github (aggiungi time delta)-->\n",
    "mantieni solo dati sp500 (che caricherà lorenzo) che hanno date coincidenti con dataframe discorsi. \n",
    "- calcolo volatilità \n",
    "- best values"
   ]
  },
  {
   "cell_type": "code",
   "execution_count": 15,
   "metadata": {},
   "outputs": [],
   "source": [
    "import pandas as pd\n"
   ]
  },
  {
   "cell_type": "code",
   "execution_count": 16,
   "metadata": {},
   "outputs": [],
   "source": [
    "def calculate_speech_durations(dfspeeches):\n",
    "    \"\"\"\n",
    "    This function calculates the duration of each speech in dfspeeches.\n",
    "    The duration is determined by counting how many rows correspond to each unique combination\n",
    "    of 'date' and 'timestart'.\n",
    "\n",
    "    Parameters:\n",
    "    dfspeeches : pandas.DataFrame\n",
    "        A dataframe containing ['date', 'timestart', 'speaker', 'title'] columns.\n",
    "\n",
    "    Returns:\n",
    "    pandas.DataFrame\n",
    "        A dataframe containing ['date', 'timestart', 'speaker', 'title', 'duration'] columns, where 'duration'\n",
    "        is the length of each speech in minutes.\n",
    "    \"\"\"\n",
    "    # Ensure the 'date' column is in datetime format\n",
    "    dfspeeches['date'] = pd.to_datetime(dfspeeches['date'])\n",
    "    \n",
    "    # Group by 'date', 'timestart', 'speaker', and 'title' and count the number of rows in each group\n",
    "    speech_durations = dfspeeches.groupby(['date', 'timestart', 'speaker', 'title']).size().reset_index(name='duration')\n",
    "    \n",
    "    return speech_durations\n"
   ]
  },
  {
   "cell_type": "code",
   "execution_count": 17,
   "metadata": {},
   "outputs": [
    {
     "name": "stdout",
     "output_type": "stream",
     "text": [
      "        date timestart    speaker    title  duration\n",
      "0 2022-01-02     10:00  Speaker A  Title A         3\n",
      "1 2022-01-04     11:00  Speaker B  Title B         2\n"
     ]
    }
   ],
   "source": [
    "\n",
    "# Example usage:\n",
    "# Create example dataframe\n",
    "dfspeeches = pd.DataFrame({\n",
    "    'date': ['2022-01-02', '2022-01-02', '2022-01-02', '2022-01-04', '2022-01-04'],\n",
    "    'timestart': ['10:00', '10:00', '10:00', '11:00', '11:00'],\n",
    "    'speaker': ['Speaker A', 'Speaker A', 'Speaker A', 'Speaker B', 'Speaker B'],\n",
    "    'title': ['Title A', 'Title A', 'Title A', 'Title B', 'Title B']\n",
    "})\n",
    "\n",
    "# Calculate speech durations\n",
    "durations_df = calculate_speech_durations(dfspeeches)\n",
    "\n",
    "print(durations_df)"
   ]
  },
  {
   "cell_type": "code",
   "execution_count": 18,
   "metadata": {},
   "outputs": [],
   "source": [
    "def filtering(dfprices, dfspeeches):\n",
    "    \"\"\"\n",
    "    This function filters dfprices by keeping only S&P 500 data with dates\n",
    "    that coincide with the ones contained in dfspeeches.\n",
    "\n",
    "    Parameters:\n",
    "    dfprices : pandas.DataFrame\n",
    "        A dataframe containing ['date', 'time', 'close', 'volume'] columns.\n",
    "    dfspeeches : pandas.DataFrame\n",
    "        A dataframe containing ['date', 'timestart', 'speaker', 'title'] columns.\n",
    "\n",
    "    Returns:\n",
    "    pandas.DataFrame\n",
    "        A filtered dataframe containing only rows from dfprices where the 'date' is present in dfspeeches.\n",
    "    \"\"\"\n",
    "    # Ensure the 'date' columns are in datetime format\n",
    "    dfprices['date'] = pd.to_datetime(dfprices['date'])\n",
    "    dfspeeches['date'] = pd.to_datetime(dfspeeches['date'])\n",
    "    \n",
    "    # Filter dfprices to include only dates that are present in dfspeeches\n",
    "    filtered_dfprices = dfprices[dfprices['date'].isin(dfspeeches['date'])]\n",
    "\n",
    "    return filtered_dfprices\n"
   ]
  },
  {
   "cell_type": "code",
   "execution_count": 19,
   "metadata": {},
   "outputs": [
    {
     "name": "stdout",
     "output_type": "stream",
     "text": [
      "        date   time  close  volume\n",
      "1 2022-01-02  09:30   3750    1500\n",
      "3 2022-01-04  09:30   3850    2500\n"
     ]
    }
   ],
   "source": [
    "\n",
    "# Example usage:\n",
    "# Create example dataframes\n",
    "dfprices = pd.DataFrame({\n",
    "    'date': ['2022-01-01', '2022-01-02', '2022-01-03', '2022-01-04'],\n",
    "    'time': ['09:30', '09:30', '09:30', '09:30'],\n",
    "    'close': [3700, 3750, 3800, 3850],\n",
    "    'volume': [1000, 1500, 2000, 2500]\n",
    "})\n",
    "\n",
    "dfspeeches = pd.DataFrame({\n",
    "    'date': ['2022-01-02', '2022-01-04'],\n",
    "    'timestart': ['10:00', '11:00'],\n",
    "    'speaker': ['Speaker A', 'Speaker B'],\n",
    "    'title': ['Title A', 'Title B']\n",
    "})\n",
    "\n",
    "# Filter dfprices using the filtering function\n",
    "filtered_dfprices = filtering(dfprices, dfspeeches)\n",
    "\n",
    "print(filtered_dfprices)\n"
   ]
  },
  {
   "cell_type": "code",
   "execution_count": 21,
   "metadata": {},
   "outputs": [],
   "source": [
    "def filtering(dfprices, dfspeeches):\n",
    "    \"\"\"\n",
    "    This function filters dfprices by keeping only rows where the date is present in dfspeeches.\n",
    "    Additionally, it considers the duration of speeches to filter rows in dfprices based on the time range.\n",
    "\n",
    "    Parameters:\n",
    "    dfprices : pandas.DataFrame\n",
    "        A dataframe containing ['date', 'time', 'close', 'volume'] columns.\n",
    "    dfspeeches: pandas.DataFrame\n",
    "        A dataframe containing ['date', 'timestart', 'speaker', 'title'] columns.\n",
    "\n",
    "    Returns:\n",
    "    pandas.DataFrame\n",
    "        A filtered dataframe containing only rows from dfprices where the 'date' and 'time' fall within the\n",
    "        time range of speeches in dfspeeches.\n",
    "    \"\"\"\n",
    "    # Ensure the 'date' and 'time' columns are in datetime format\n",
    "    dfprices['date'] = pd.to_datetime(dfprices['date'])\n",
    "    dfprices['time'] = pd.to_datetime(dfprices['time'], format='%H:%M').dt.time\n",
    "    \n",
    "    # Calculate speech durations\n",
    "    speech_durations = calculate_speech_durations(dfspeeches)\n",
    "    \n",
    "    # Initialize an empty list to store the filtered rows\n",
    "    filtered_rows = []\n",
    "    \n",
    "    # Iterate over each speech to filter dfprices\n",
    "    for _, speech in speech_durations.iterrows():\n",
    "        speech_date = speech['date']\n",
    "        start_time = pd.to_datetime(speech['timestart'], format='%H:%M').time()\n",
    "        duration = speech['duration']\n",
    "        \n",
    "        # Calculate end time based on the duration\n",
    "        end_time = (pd.to_datetime(speech['timestart'], format='%H:%M') + pd.Timedelta(minutes=duration)).time()\n",
    "        \n",
    "        # Filter dfprices for the current speech date and time range\n",
    "        mask = (dfprices['date'] == speech_date) & \\\n",
    "               (dfprices['time'] >= start_time) & \\\n",
    "               (dfprices['time'] <= end_time)\n",
    "        \n",
    "        filtered_rows.append(dfprices[mask])\n",
    "    \n",
    "    # Concatenate all filtered rows into a single dataframe\n",
    "    filtered_df = pd.concat(filtered_rows)\n",
    "    \n",
    "    return filtered_df\n"
   ]
  },
  {
   "cell_type": "code",
   "execution_count": 22,
   "metadata": {},
   "outputs": [
    {
     "name": "stdout",
     "output_type": "stream",
     "text": [
      "Speech Durations:\n",
      "        date timestart    speaker    title  duration\n",
      "0 2022-01-03     10:00  Speaker A  Title A         3\n",
      "1 2022-01-04     11:00  Speaker B  Title B         2\n",
      "\n",
      "Filtered Prices:\n",
      "        date      time  close  volume\n",
      "5 2022-01-04  11:00:00    200    2000\n",
      "6 2022-01-04  11:01:00    201    2100\n",
      "7 2022-01-04  11:02:00    202    2200\n"
     ]
    }
   ],
   "source": [
    "# Example usage:\n",
    "# Create example dataframes\n",
    "dfprices = pd.DataFrame({\n",
    "    'date': ['2022-01-02', '2022-01-02', '2022-01-02', '2022-01-02', '2022-01-02', '2022-01-04', '2022-01-04', '2022-01-04'],\n",
    "    'time': ['10:00', '10:01', '10:02', '10:03', '10:04', '11:00', '11:01', '11:02'],\n",
    "    'close': [100, 101, 102, 103, 104, 200, 201, 202],\n",
    "    'volume': [1000, 1100, 1200, 1300, 1400, 2000, 2100, 2200]\n",
    "})\n",
    "\n",
    "dfspeeches = pd.DataFrame({\n",
    "    'date': ['2022-01-03', '2022-01-03', '2022-01-03', '2022-01-04', '2022-01-04'],\n",
    "    'timestart': ['10:00', '10:00', '10:00', '11:00', '11:00'],\n",
    "    'speaker': ['Speaker A', 'Speaker A', 'Speaker A', 'Speaker B', 'Speaker B'],\n",
    "    'title': ['Title A', 'Title A', 'Title A', 'Title B', 'Title B']\n",
    "})\n",
    "\n",
    "# Calculate speech durations\n",
    "speech_durations = calculate_speech_durations(dfspeeches)\n",
    "\n",
    "# Display speech durations\n",
    "print(\"Speech Durations:\")\n",
    "print(speech_durations)\n",
    "\n",
    "# Filter dfprices based on dfspeeches\n",
    "filtered_df = filtering(dfprices, dfspeeches)\n",
    "\n",
    "print(\"\\nFiltered Prices:\")\n",
    "print(filtered_df)"
   ]
  },
  {
   "cell_type": "code",
   "execution_count": 23,
   "metadata": {},
   "outputs": [],
   "source": [
    "def volatility_calculator(dfprices):\n",
    "    \"\"\"\n",
    "    Calculate daily volatility for the 'close' column in the dataframe.\n",
    "\n",
    "    Parameters:\n",
    "    dfprices : pandas.DataFrame\n",
    "        A dataframe containing ['date', 'time', 'close', 'volume'] columns.\n",
    "\n",
    "    Returns:\n",
    "    pandas.Series\n",
    "        A series with dates as the index and the standard deviation\n",
    "        of daily percentage changes (volatility) as the values.\n",
    "    \"\"\"\n",
    "\n",
    "    # Calculate the daily percentage change in closing prices\n",
    "    dfprices['pct_change'] = dfprices['close'].pct_change()\n",
    "    \n",
    "    # Group by 'date' and calculate the standard deviation of percentage changes\n",
    "    volatility_series = dfprices.groupby('date')['pct_change'].std()\n",
    "    \n",
    "    # Rename the resulting series for clarity\n",
    "    volatility_series.name = 'volatility'\n",
    "    \n",
    "    # Ensure the index is in datetime format\n",
    "    volatility_series.index = pd.to_datetime(volatility_series.index)\n",
    "    \n",
    "    return volatility_series\n"
   ]
  },
  {
   "cell_type": "code",
   "execution_count": 27,
   "metadata": {},
   "outputs": [
    {
     "name": "stdout",
     "output_type": "stream",
     "text": [
      "date\n",
      "2022-01-01    0.011236\n",
      "2022-01-03    0.053736\n",
      "Name: volatility, dtype: float64\n"
     ]
    }
   ],
   "source": [
    "# Example usage\n",
    "\n",
    "dfprices = pd.DataFrame({\n",
    "    'date': ['2022-01-01', '2022-01-01', '2022-01-01', '2022-01-01', '2022-01-03', '2022-01-03', '2022-01-03'],\n",
    "    'close': [100, 101, 102, 105, 110, 105, 110]\n",
    "})\n",
    "\n",
    "# Calculate volatility\n",
    "volatility = volatility_calculator(dfprices)\n",
    "print(volatility)\n"
   ]
  },
  {
   "cell_type": "code",
   "execution_count": 35,
   "metadata": {},
   "outputs": [],
   "source": [
    "def get_best_values(volatility, number):\n",
    "    \"\"\"\n",
    "    Get the top dates with the highest volatility and return a dataframe with dates and volatility values.\n",
    "\n",
    "    Parameters:\n",
    "    volatility : pandas.Series\n",
    "        A series with dates as the index and volatility as the values.\n",
    "    number : int\n",
    "        The number of top volatility dates to select.\n",
    "\n",
    "    Returns:\n",
    "    pandas.DataFrame\n",
    "        A dataframe containing the top `number` dates and their corresponding volatility values.\n",
    "    \"\"\"\n",
    "    \n",
    "    # Drop NaN values in volatility to avoid issues\n",
    "    volatility = volatility.dropna()\n",
    "\n",
    "    # Sort the volatility in descending order to get the top dates with highest volatility\n",
    "    top_volatility = volatility.sort_values(ascending=False).head(number)\n",
    "\n",
    "    # Create a DataFrame with 'date' and 'volatility' columns\n",
    "    result_df = top_volatility.reset_index()\n",
    "    result_df.columns = ['date', 'volatility']\n",
    "    \n",
    "    return result_df\n"
   ]
  },
  {
   "cell_type": "code",
   "execution_count": 37,
   "metadata": {},
   "outputs": [
    {
     "data": {
      "text/html": [
       "<div>\n",
       "<style scoped>\n",
       "    .dataframe tbody tr th:only-of-type {\n",
       "        vertical-align: middle;\n",
       "    }\n",
       "\n",
       "    .dataframe tbody tr th {\n",
       "        vertical-align: top;\n",
       "    }\n",
       "\n",
       "    .dataframe thead th {\n",
       "        text-align: right;\n",
       "    }\n",
       "</style>\n",
       "<table border=\"1\" class=\"dataframe\">\n",
       "  <thead>\n",
       "    <tr style=\"text-align: right;\">\n",
       "      <th></th>\n",
       "      <th>date</th>\n",
       "      <th>volatility</th>\n",
       "    </tr>\n",
       "  </thead>\n",
       "  <tbody>\n",
       "    <tr>\n",
       "      <th>0</th>\n",
       "      <td>2024-02-02</td>\n",
       "      <td>0.005688</td>\n",
       "    </tr>\n",
       "    <tr>\n",
       "      <th>1</th>\n",
       "      <td>2024-01-16</td>\n",
       "      <td>0.002092</td>\n",
       "    </tr>\n",
       "    <tr>\n",
       "      <th>2</th>\n",
       "      <td>2024-02-07</td>\n",
       "      <td>0.001823</td>\n",
       "    </tr>\n",
       "  </tbody>\n",
       "</table>\n",
       "</div>"
      ],
      "text/plain": [
       "         date  volatility\n",
       "0  2024-02-02    0.005688\n",
       "1  2024-01-16    0.002092\n",
       "2  2024-02-07    0.001823"
      ]
     },
     "execution_count": 37,
     "metadata": {},
     "output_type": "execute_result"
    }
   ],
   "source": [
    "# Example DataFrame for volatility (volatility by date)\n",
    "volatility = pd.Series({\n",
    "    '2024-01-08': 0.000298,\n",
    "    '2024-01-16': 0.002092,\n",
    "    '2024-01-17': 0.000665,\n",
    "    '2024-02-02': 0.005688,\n",
    "    '2024-02-07': 0.001823,\n",
    "    '2024-10-10': 0.000763,\n",
    "    '2024-10-11': 0.00111\n",
    "})\n",
    "\n",
    "# Get the top 3 volatility dates\n",
    "top_volatility_df = get_best_values(volatility, 3)\n",
    "\n",
    "top_volatility_df\n"
   ]
  }
 ],
 "metadata": {
  "kernelspec": {
   "display_name": "Python 3",
   "language": "python",
   "name": "python3"
  },
  "language_info": {
   "codemirror_mode": {
    "name": "ipython",
    "version": 3
   },
   "file_extension": ".py",
   "mimetype": "text/x-python",
   "name": "python",
   "nbconvert_exporter": "python",
   "pygments_lexer": "ipython3",
   "version": "3.12.8"
  }
 },
 "nbformat": 4,
 "nbformat_minor": 2
}
