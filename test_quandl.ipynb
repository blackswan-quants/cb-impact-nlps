{
 "cells": [
  {
   "cell_type": "code",
   "execution_count": 6,
   "metadata": {},
   "outputs": [
    {
     "name": "stdout",
     "output_type": "stream",
     "text": [
      "Data downloaded successfully and saved to SP500_minute_prices.csv\n"
     ]
    }
   ],
   "source": [
    "import quandl\n",
    "import pandas as pd\n",
    "import os\n",
    "from dotenv import load_dotenv\n",
    "from helpermodules.df_dataretrieval import IndexData_Retrieval\n",
    "\n",
    "load_dotenv()\n",
    "\n",
    "# Set your Quandl API key from environment variable\n",
    "quandl.ApiConfig.api_key = os.getenv(\"QUANDL_API_KEY\")\n",
    "\n",
    "tickers = IndexData_Retrieval(filename='sp500_df', index='S&P 500', years=10, frequency='1min', use_yfinance=True).get_stockex_tickers()\n",
    "# Update the tickers format\n",
    "tickers = [f\"{ticker.split('.')[0]}/{ticker.split('.')[1]}\" for ticker in tickers if len(ticker.split('.')) > 1]\n",
    "\n",
    "# Define the date range for data retrieval\n",
    "start_date = \"2024-10-01\"\n",
    "end_date = \"2024-11-01\"  # Adjust as needed\n",
    "\n",
    "# Fetch the data\n",
    "try:\n",
    "    data = quandl.get(\n",
    "        tickers,\n",
    "        start_date=start_date,\n",
    "        end_date=end_date,\n",
    "        collapse=\"daily\"  # Adjusted to the highest frequency available for free\n",
    "    )\n",
    "    # Save to CSV for further analysis\n",
    "    data.to_csv(\"SP500_minute_prices.csv\")\n",
    "    print(\"Data downloaded successfully and saved to SP500_minute_prices.csv\")\n",
    "except Exception as e:\n",
    "    print(f\"Error fetching data: {e}\")\n"
   ]
  }
 ],
 "metadata": {
  "kernelspec": {
   "display_name": "venv",
   "language": "python",
   "name": "python3"
  },
  "language_info": {
   "codemirror_mode": {
    "name": "ipython",
    "version": 3
   },
   "file_extension": ".py",
   "mimetype": "text/x-python",
   "name": "python",
   "nbconvert_exporter": "python",
   "pygments_lexer": "ipython3",
   "version": "3.12.7"
  }
 },
 "nbformat": 4,
 "nbformat_minor": 2
}
